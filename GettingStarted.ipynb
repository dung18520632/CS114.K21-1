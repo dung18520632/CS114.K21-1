{
  "nbformat": 4,
  "nbformat_minor": 0,
  "metadata": {
    "colab": {
      "name": "GettingStarted.ipynb",
      "provenance": [],
      "authorship_tag": "ABX9TyMSH2NS2TGKyz12EI2DGhGf",
      "include_colab_link": true
    },
    "kernelspec": {
      "name": "python3",
      "display_name": "Python 3"
    }
  },
  "cells": [
    {
      "cell_type": "markdown",
      "metadata": {
        "id": "view-in-github",
        "colab_type": "text"
      },
      "source": [
        "<a href=\"https://colab.research.google.com/github/vieduy/CS114.K21/blob/master/GettingStarted.ipynb\" target=\"_parent\"><img src=\"https://colab.research.google.com/assets/colab-badge.svg\" alt=\"Open In Colab\"/></a>"
      ]
    },
    {
      "cell_type": "code",
      "metadata": {
        "id": "MBkcLYoaNBXP",
        "colab_type": "code",
        "colab": {}
      },
      "source": [
        "import os\n",
        "os.environ['TF_CPP_MIN_LOG_LEVEL'] = '2'\n",
        "import tensorflow as tf\n",
        "\n",
        "batch_size = 128\n",
        "no_classes = 10\n",
        "epochs = 1\n",
        "image_height, image_width = 28, 28\n",
        "\n",
        "(x_train, y_train), (x_test, y_test) = tf.keras.datasets.mnist.load_data()\n",
        "\n",
        "x_train = x_train.reshape(x_train.shape[0], image_height, image_width, 1)\n",
        "x_test = x_test.reshape(x_test.shape[0], image_height, image_width, 1)\n",
        "input_shape = (image_height, image_width, 1)\n",
        "\n",
        "x_train = x_train.astype('float32')\n",
        "x_test = x_test.astype('float32')\n",
        "\n",
        "x_train /= 255\n",
        "x_test /= 255\n",
        "\n",
        "y_train = tf.keras.utils.to_categorical(y_train, no_classes)\n",
        "y_test = tf.keras.utils.to_categorical(y_test, no_classes)\n",
        "\n",
        "\n",
        "def simple_cnn(input_shape):\n",
        "    model = tf.keras.models.Sequential()\n",
        "    model.add(tf.keras.layers.Conv2D(\n",
        "        filters=64,\n",
        "        kernel_size=(3, 3),\n",
        "        activation='relu',\n",
        "        input_shape=input_shape\n",
        "    ))\n",
        "    model.add(tf.keras.layers.Conv2D(\n",
        "        filters=128,\n",
        "        kernel_size=(3, 3),\n",
        "        activation='relu'\n",
        "    ))\n",
        "    model.add(tf.keras.layers.MaxPooling2D(pool_size=(2, 2)))\n",
        "    model.add(tf.keras.layers.Dropout(rate=0.3))\n",
        "    model.add(tf.keras.layers.Flatten())\n",
        "    model.add(tf.keras.layers.Dense(units=1024, activation='relu'))\n",
        "    model.add(tf.keras.layers.Dropout(rate=0.3))\n",
        "    model.add(tf.keras.layers.Dense(units=no_classes, activation='softmax'))\n",
        "    model.compile(loss=tf.keras.losses.categorical_crossentropy,\n",
        "                  optimizer=tf.keras.optimizers.Adam(),\n",
        "                  metrics=['accuracy'])\n",
        "    return model\n",
        "\n",
        "\n",
        "simple_cnn_model = simple_cnn(input_shape)\n",
        "\n",
        "simple_cnn_model.fit(x_train, y_train, batch_size, epochs, (x_test, y_test))\n",
        "train_loss, train_accuracy = simple_cnn_model.evaluate(\n",
        "    x_train, y_train, verbose=0)\n",
        "print('Train data loss:', train_loss)\n",
        "print('Train data accuracy:', train_accuracy)\n",
        "\n",
        "test_loss, test_accuracy = simple_cnn_model.evaluate(\n",
        "    x_test, y_test, verbose=0)\n",
        "print('Test data loss:', test_loss)\n",
        "print('Test data accuracy:', test_accuracy)\n"
      ],
      "execution_count": 0,
      "outputs": []
    },
    {
      "cell_type": "code",
      "metadata": {
        "id": "DYEvDBVq9eja",
        "colab_type": "code",
        "colab": {
          "base_uri": "https://localhost:8080/",
          "height": 34
        },
        "outputId": "75e45b5c-5c2d-49da-b2e0-8fd9b2e4bb85"
      },
      "source": [
        "print('Hello world')"
      ],
      "execution_count": 1,
      "outputs": [
        {
          "output_type": "stream",
          "text": [
            "Hello world\n"
          ],
          "name": "stdout"
        }
      ]
    }
  ]
}